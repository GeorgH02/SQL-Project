{
 "cells": [
  {
   "cell_type": "markdown",
   "metadata": {},
   "source": [
    "# Final project Georg Hausbichler"
   ]
  },
  {
   "cell_type": "markdown",
   "metadata": {},
   "source": [
    "Before we can start, we need to load the SQL-extension and create a database for the project, in which the information that will be loaded, altered and created is stored."
   ]
  },
  {
   "cell_type": "code",
   "execution_count": 1,
   "metadata": {},
   "outputs": [],
   "source": [
    "%reload_ext sql"
   ]
  },
  {
   "cell_type": "code",
   "execution_count": 2,
   "metadata": {},
   "outputs": [],
   "source": [
    "%sql sqlite:///project.db"
   ]
  },
  {
   "cell_type": "markdown",
   "metadata": {},
   "source": [
    "### Importing CSV data"
   ]
  },
  {
   "cell_type": "code",
   "execution_count": 35,
   "metadata": {},
   "outputs": [
    {
     "name": "stdout",
     "output_type": "stream",
     "text": [
      " * sqlite:///project.db\n",
      "Done.\n"
     ]
    },
    {
     "data": {
      "text/plain": [
       "[]"
      ]
     },
     "execution_count": 35,
     "metadata": {},
     "output_type": "execute_result"
    }
   ],
   "source": [
    "# deleting the table we are about to create, to ensure that the project can be run as a whole multiple times \n",
    "%sql drop table if exists players;"
   ]
  },
  {
   "cell_type": "markdown",
   "metadata": {},
   "source": [
    "The dataset is available on Kaggle as \"NBA Players\" in the form of a CSV-file. It lists the players of the NBA (National Basketball Association) for every season from 1996 to 2022. \n",
    "\n",
    "It features an entry for every player for every season including a unique index, their name and 20 additional columns with personal and playing data."
   ]
  },
  {
   "cell_type": "code",
   "execution_count": 36,
   "metadata": {},
   "outputs": [
    {
     "data": {
      "text/plain": [
       "12844"
      ]
     },
     "execution_count": 36,
     "metadata": {},
     "output_type": "execute_result"
    }
   ],
   "source": [
    "# importing pandas in order to import csv data\n",
    "import pandas as pd\n",
    "# importing sqlite3 to create connection object to data base\n",
    "import sqlite3 \n",
    "\n",
    "conn = sqlite3.connect(\"project.db\") \n",
    "\n",
    "# loading the players.csv file (includes player data for all NBA-players from 1996 - 2022)\n",
    "# https://www.kaggle.com/datasets/justinas/nba-players-data/data\n",
    "pd.read_csv(\"./players.csv\").to_sql(\"players\", conn, index=False)"
   ]
  },
  {
   "cell_type": "code",
   "execution_count": 37,
   "metadata": {},
   "outputs": [
    {
     "name": "stdout",
     "output_type": "stream",
     "text": [
      " * sqlite:///project.db\n",
      "Done.\n"
     ]
    },
    {
     "data": {
      "text/html": [
       "<table>\n",
       "    <thead>\n",
       "        <tr>\n",
       "            <th>Unnamed: 0</th>\n",
       "            <th>player_name</th>\n",
       "            <th>team_abbreviation</th>\n",
       "            <th>age</th>\n",
       "            <th>player_height</th>\n",
       "            <th>player_weight</th>\n",
       "            <th>college</th>\n",
       "            <th>country</th>\n",
       "            <th>draft_year</th>\n",
       "            <th>draft_round</th>\n",
       "            <th>draft_number</th>\n",
       "            <th>gp</th>\n",
       "            <th>pts</th>\n",
       "            <th>reb</th>\n",
       "            <th>ast</th>\n",
       "            <th>net_rating</th>\n",
       "            <th>oreb_pct</th>\n",
       "            <th>dreb_pct</th>\n",
       "            <th>usg_pct</th>\n",
       "            <th>ts_pct</th>\n",
       "            <th>ast_pct</th>\n",
       "            <th>season</th>\n",
       "        </tr>\n",
       "    </thead>\n",
       "    <tbody>\n",
       "        <tr>\n",
       "            <td>0</td>\n",
       "            <td>Randy Livingston</td>\n",
       "            <td>HOU</td>\n",
       "            <td>22.0</td>\n",
       "            <td>193.04</td>\n",
       "            <td>94.800728</td>\n",
       "            <td>Louisiana State</td>\n",
       "            <td>USA</td>\n",
       "            <td>1996</td>\n",
       "            <td>2</td>\n",
       "            <td>42</td>\n",
       "            <td>64</td>\n",
       "            <td>3.9</td>\n",
       "            <td>1.5</td>\n",
       "            <td>2.4</td>\n",
       "            <td>0.3</td>\n",
       "            <td>0.042</td>\n",
       "            <td>0.071</td>\n",
       "            <td>0.1689999999999999</td>\n",
       "            <td>0.487</td>\n",
       "            <td>0.248</td>\n",
       "            <td>1996-97</td>\n",
       "        </tr>\n",
       "        <tr>\n",
       "            <td>1</td>\n",
       "            <td>Gaylon Nickerson</td>\n",
       "            <td>WAS</td>\n",
       "            <td>28.0</td>\n",
       "            <td>190.5</td>\n",
       "            <td>86.18248</td>\n",
       "            <td>Northwestern Oklahoma</td>\n",
       "            <td>USA</td>\n",
       "            <td>1994</td>\n",
       "            <td>2</td>\n",
       "            <td>34</td>\n",
       "            <td>4</td>\n",
       "            <td>3.8</td>\n",
       "            <td>1.3</td>\n",
       "            <td>0.3</td>\n",
       "            <td>8.9</td>\n",
       "            <td>0.03</td>\n",
       "            <td>0.111</td>\n",
       "            <td>0.174</td>\n",
       "            <td>0.497</td>\n",
       "            <td>0.043</td>\n",
       "            <td>1996-97</td>\n",
       "        </tr>\n",
       "        <tr>\n",
       "            <td>2</td>\n",
       "            <td>George Lynch</td>\n",
       "            <td>VAN</td>\n",
       "            <td>26.0</td>\n",
       "            <td>203.2</td>\n",
       "            <td>103.418976</td>\n",
       "            <td>North Carolina</td>\n",
       "            <td>USA</td>\n",
       "            <td>1993</td>\n",
       "            <td>1</td>\n",
       "            <td>12</td>\n",
       "            <td>41</td>\n",
       "            <td>8.3</td>\n",
       "            <td>6.4</td>\n",
       "            <td>1.9</td>\n",
       "            <td>-8.2</td>\n",
       "            <td>0.106</td>\n",
       "            <td>0.185</td>\n",
       "            <td>0.175</td>\n",
       "            <td>0.512</td>\n",
       "            <td>0.125</td>\n",
       "            <td>1996-97</td>\n",
       "        </tr>\n",
       "        <tr>\n",
       "            <td>3</td>\n",
       "            <td>George McCloud</td>\n",
       "            <td>LAL</td>\n",
       "            <td>30.0</td>\n",
       "            <td>203.2</td>\n",
       "            <td>102.0582</td>\n",
       "            <td>Florida State</td>\n",
       "            <td>USA</td>\n",
       "            <td>1989</td>\n",
       "            <td>1</td>\n",
       "            <td>7</td>\n",
       "            <td>64</td>\n",
       "            <td>10.2</td>\n",
       "            <td>2.8</td>\n",
       "            <td>1.7</td>\n",
       "            <td>-2.7</td>\n",
       "            <td>0.027</td>\n",
       "            <td>0.111</td>\n",
       "            <td>0.206</td>\n",
       "            <td>0.527</td>\n",
       "            <td>0.125</td>\n",
       "            <td>1996-97</td>\n",
       "        </tr>\n",
       "        <tr>\n",
       "            <td>4</td>\n",
       "            <td>George Zidek</td>\n",
       "            <td>DEN</td>\n",
       "            <td>23.0</td>\n",
       "            <td>213.36</td>\n",
       "            <td>119.748288</td>\n",
       "            <td>UCLA</td>\n",
       "            <td>USA</td>\n",
       "            <td>1995</td>\n",
       "            <td>1</td>\n",
       "            <td>22</td>\n",
       "            <td>52</td>\n",
       "            <td>2.8</td>\n",
       "            <td>1.7</td>\n",
       "            <td>0.3</td>\n",
       "            <td>-14.1</td>\n",
       "            <td>0.102</td>\n",
       "            <td>0.1689999999999999</td>\n",
       "            <td>0.195</td>\n",
       "            <td>0.5</td>\n",
       "            <td>0.064</td>\n",
       "            <td>1996-97</td>\n",
       "        </tr>\n",
       "        <tr>\n",
       "            <td>5</td>\n",
       "            <td>Gerald Wilkins</td>\n",
       "            <td>ORL</td>\n",
       "            <td>33.0</td>\n",
       "            <td>198.12</td>\n",
       "            <td>102.0582</td>\n",
       "            <td>Tennessee-Chattanooga</td>\n",
       "            <td>USA</td>\n",
       "            <td>1985</td>\n",
       "            <td>2</td>\n",
       "            <td>47</td>\n",
       "            <td>80</td>\n",
       "            <td>10.6</td>\n",
       "            <td>2.2</td>\n",
       "            <td>2.2</td>\n",
       "            <td>-5.8</td>\n",
       "            <td>0.031</td>\n",
       "            <td>0.064</td>\n",
       "            <td>0.203</td>\n",
       "            <td>0.503</td>\n",
       "            <td>0.143</td>\n",
       "            <td>1996-97</td>\n",
       "        </tr>\n",
       "        <tr>\n",
       "            <td>6</td>\n",
       "            <td>Gheorghe Muresan</td>\n",
       "            <td>WAS</td>\n",
       "            <td>26.0</td>\n",
       "            <td>231.14</td>\n",
       "            <td>137.438376</td>\n",
       "            <td>None</td>\n",
       "            <td>USA</td>\n",
       "            <td>1993</td>\n",
       "            <td>2</td>\n",
       "            <td>30</td>\n",
       "            <td>73</td>\n",
       "            <td>10.6</td>\n",
       "            <td>6.6</td>\n",
       "            <td>0.4</td>\n",
       "            <td>6.9</td>\n",
       "            <td>0.098</td>\n",
       "            <td>0.217</td>\n",
       "            <td>0.185</td>\n",
       "            <td>0.618</td>\n",
       "            <td>0.024</td>\n",
       "            <td>1996-97</td>\n",
       "        </tr>\n",
       "        <tr>\n",
       "            <td>7</td>\n",
       "            <td>Glen Rice</td>\n",
       "            <td>CHH</td>\n",
       "            <td>30.0</td>\n",
       "            <td>203.2</td>\n",
       "            <td>99.79024</td>\n",
       "            <td>Michigan</td>\n",
       "            <td>USA</td>\n",
       "            <td>1989</td>\n",
       "            <td>1</td>\n",
       "            <td>4</td>\n",
       "            <td>79</td>\n",
       "            <td>26.8</td>\n",
       "            <td>4.0</td>\n",
       "            <td>2.0</td>\n",
       "            <td>3.2</td>\n",
       "            <td>0.025</td>\n",
       "            <td>0.087</td>\n",
       "            <td>0.272</td>\n",
       "            <td>0.605</td>\n",
       "            <td>0.088</td>\n",
       "            <td>1996-97</td>\n",
       "        </tr>\n",
       "        <tr>\n",
       "            <td>8</td>\n",
       "            <td>Glenn Robinson</td>\n",
       "            <td>MIL</td>\n",
       "            <td>24.0</td>\n",
       "            <td>200.66</td>\n",
       "            <td>106.59412</td>\n",
       "            <td>Purdue</td>\n",
       "            <td>USA</td>\n",
       "            <td>1994</td>\n",
       "            <td>1</td>\n",
       "            <td>1</td>\n",
       "            <td>80</td>\n",
       "            <td>21.1</td>\n",
       "            <td>6.3</td>\n",
       "            <td>3.1</td>\n",
       "            <td>-2.9</td>\n",
       "            <td>0.051</td>\n",
       "            <td>0.144</td>\n",
       "            <td>0.278</td>\n",
       "            <td>0.528</td>\n",
       "            <td>0.146</td>\n",
       "            <td>1996-97</td>\n",
       "        </tr>\n",
       "        <tr>\n",
       "            <td>9</td>\n",
       "            <td>Grant Hill</td>\n",
       "            <td>DET</td>\n",
       "            <td>24.0</td>\n",
       "            <td>203.2</td>\n",
       "            <td>102.0582</td>\n",
       "            <td>Duke</td>\n",
       "            <td>USA</td>\n",
       "            <td>1994</td>\n",
       "            <td>1</td>\n",
       "            <td>3</td>\n",
       "            <td>80</td>\n",
       "            <td>21.4</td>\n",
       "            <td>9.0</td>\n",
       "            <td>7.3</td>\n",
       "            <td>6.9</td>\n",
       "            <td>0.049</td>\n",
       "            <td>0.2319999999999999</td>\n",
       "            <td>0.283</td>\n",
       "            <td>0.556</td>\n",
       "            <td>0.356</td>\n",
       "            <td>1996-97</td>\n",
       "        </tr>\n",
       "    </tbody>\n",
       "</table>"
      ],
      "text/plain": [
       "[(0, 'Randy Livingston', 'HOU', 22.0, 193.04, 94.800728, 'Louisiana State', 'USA', '1996', '2', '42', 64, 3.9, 1.5, 2.4, 0.3, 0.042, 0.071, 0.1689999999999999, 0.487, 0.248, '1996-97'),\n",
       " (1, 'Gaylon Nickerson', 'WAS', 28.0, 190.5, 86.18248, 'Northwestern Oklahoma', 'USA', '1994', '2', '34', 4, 3.8, 1.3, 0.3, 8.9, 0.03, 0.111, 0.174, 0.497, 0.043, '1996-97'),\n",
       " (2, 'George Lynch', 'VAN', 26.0, 203.2, 103.418976, 'North Carolina', 'USA', '1993', '1', '12', 41, 8.3, 6.4, 1.9, -8.2, 0.106, 0.185, 0.175, 0.512, 0.125, '1996-97'),\n",
       " (3, 'George McCloud', 'LAL', 30.0, 203.2, 102.0582, 'Florida State', 'USA', '1989', '1', '7', 64, 10.2, 2.8, 1.7, -2.7, 0.027, 0.111, 0.206, 0.527, 0.125, '1996-97'),\n",
       " (4, 'George Zidek', 'DEN', 23.0, 213.36, 119.748288, 'UCLA', 'USA', '1995', '1', '22', 52, 2.8, 1.7, 0.3, -14.1, 0.102, 0.1689999999999999, 0.195, 0.5, 0.064, '1996-97'),\n",
       " (5, 'Gerald Wilkins', 'ORL', 33.0, 198.12, 102.0582, 'Tennessee-Chattanooga', 'USA', '1985', '2', '47', 80, 10.6, 2.2, 2.2, -5.8, 0.031, 0.064, 0.203, 0.503, 0.143, '1996-97'),\n",
       " (6, 'Gheorghe Muresan', 'WAS', 26.0, 231.14, 137.438376, None, 'USA', '1993', '2', '30', 73, 10.6, 6.6, 0.4, 6.9, 0.098, 0.217, 0.185, 0.618, 0.024, '1996-97'),\n",
       " (7, 'Glen Rice', 'CHH', 30.0, 203.2, 99.79024, 'Michigan', 'USA', '1989', '1', '4', 79, 26.8, 4.0, 2.0, 3.2, 0.025, 0.087, 0.272, 0.605, 0.088, '1996-97'),\n",
       " (8, 'Glenn Robinson', 'MIL', 24.0, 200.66, 106.59412, 'Purdue', 'USA', '1994', '1', '1', 80, 21.1, 6.3, 3.1, -2.9, 0.051, 0.144, 0.278, 0.528, 0.146, '1996-97'),\n",
       " (9, 'Grant Hill', 'DET', 24.0, 203.2, 102.0582, 'Duke', 'USA', '1994', '1', '3', 80, 21.4, 9.0, 7.3, 6.9, 0.049, 0.2319999999999999, 0.283, 0.556, 0.356, '1996-97')]"
      ]
     },
     "execution_count": 37,
     "metadata": {},
     "output_type": "execute_result"
    }
   ],
   "source": [
    "%sql select * from players limit 10;"
   ]
  },
  {
   "cell_type": "markdown",
   "metadata": {},
   "source": [
    "Because the first column containing the index for every player for every season is unnamed, we will rename it to \"index\". "
   ]
  },
  {
   "cell_type": "code",
   "execution_count": 6,
   "metadata": {},
   "outputs": [
    {
     "name": "stdout",
     "output_type": "stream",
     "text": [
      " * sqlite:///project.db\n",
      "Done.\n"
     ]
    },
    {
     "data": {
      "text/plain": [
       "[]"
      ]
     },
     "execution_count": 6,
     "metadata": {},
     "output_type": "execute_result"
    }
   ],
   "source": [
    "%%sql\n",
    "\n",
    "alter table players\n",
    "rename column \"Unnamed: 0\" to\n",
    "\"index\";"
   ]
  },
  {
   "cell_type": "markdown",
   "metadata": {},
   "source": [
    "### Creating the \"careers\"-table"
   ]
  },
  {
   "cell_type": "markdown",
   "metadata": {},
   "source": [
    "The information on player's career lengths is not included because the data is per season.\n",
    "\n",
    "However, player's career lengths can be calculated by counting the number of entries each player has in the table, which we will do and save this information in a new table called \"careers\". Through the additional ordering-statement the table shows the players who had the longest careers in this timeframe first."
   ]
  },
  {
   "cell_type": "code",
   "execution_count": 7,
   "metadata": {},
   "outputs": [
    {
     "name": "stdout",
     "output_type": "stream",
     "text": [
      " * sqlite:///project.db\n",
      "Done.\n",
      "Done.\n"
     ]
    },
    {
     "data": {
      "text/plain": [
       "[]"
      ]
     },
     "execution_count": 7,
     "metadata": {},
     "output_type": "execute_result"
    }
   ],
   "source": [
    "%%sql\n",
    "\n",
    "drop table if exists careers;\n",
    "create table careers as select \n",
    "player_name, count(*) as total_seasons from players group by player_name\n",
    "order by total_seasons desc;\n"
   ]
  },
  {
   "cell_type": "code",
   "execution_count": 8,
   "metadata": {},
   "outputs": [
    {
     "name": "stdout",
     "output_type": "stream",
     "text": [
      " * sqlite:///project.db\n",
      "Done.\n"
     ]
    },
    {
     "data": {
      "text/html": [
       "<table>\n",
       "    <thead>\n",
       "        <tr>\n",
       "            <th>player_name</th>\n",
       "            <th>total_seasons</th>\n",
       "        </tr>\n",
       "    </thead>\n",
       "    <tbody>\n",
       "        <tr>\n",
       "            <td>Vince Carter</td>\n",
       "            <td>22</td>\n",
       "        </tr>\n",
       "        <tr>\n",
       "            <td>Dirk Nowitzki</td>\n",
       "            <td>21</td>\n",
       "        </tr>\n",
       "        <tr>\n",
       "            <td>Udonis Haslem</td>\n",
       "            <td>20</td>\n",
       "        </tr>\n",
       "        <tr>\n",
       "            <td>LeBron James</td>\n",
       "            <td>20</td>\n",
       "        </tr>\n",
       "        <tr>\n",
       "            <td>Kobe Bryant</td>\n",
       "            <td>20</td>\n",
       "        </tr>\n",
       "        <tr>\n",
       "            <td>Kevin Garnett</td>\n",
       "            <td>20</td>\n",
       "        </tr>\n",
       "        <tr>\n",
       "            <td>Jamal Crawford</td>\n",
       "            <td>20</td>\n",
       "        </tr>\n",
       "        <tr>\n",
       "            <td>Tyson Chandler</td>\n",
       "            <td>19</td>\n",
       "        </tr>\n",
       "        <tr>\n",
       "            <td>Tim Duncan</td>\n",
       "            <td>19</td>\n",
       "        </tr>\n",
       "        <tr>\n",
       "            <td>Paul Pierce</td>\n",
       "            <td>19</td>\n",
       "        </tr>\n",
       "    </tbody>\n",
       "</table>"
      ],
      "text/plain": [
       "[('Vince Carter', 22),\n",
       " ('Dirk Nowitzki', 21),\n",
       " ('Udonis Haslem', 20),\n",
       " ('LeBron James', 20),\n",
       " ('Kobe Bryant', 20),\n",
       " ('Kevin Garnett', 20),\n",
       " ('Jamal Crawford', 20),\n",
       " ('Tyson Chandler', 19),\n",
       " ('Tim Duncan', 19),\n",
       " ('Paul Pierce', 19)]"
      ]
     },
     "execution_count": 8,
     "metadata": {},
     "output_type": "execute_result"
    }
   ],
   "source": [
    "%sql select * from careers limit 10;"
   ]
  },
  {
   "cell_type": "markdown",
   "metadata": {},
   "source": [
    "We can expand this table to also include the total number of teams every player played for as well as the career averages for major statistics (points, assists and rebounds). \n",
    "\n",
    "This can be achieved by counting the number of distinct team abbreviations for every player and then firstly calculating the sum of the statistics, dividing it by every row this player appears in and finally rounding the result to improve its appearance. \n",
    "\n",
    "Through ordering primarily by total seasons and secondarily by total points we can find the players who had the longest careers and averaged the most points between 1996 and 2022."
   ]
  },
  {
   "cell_type": "code",
   "execution_count": 9,
   "metadata": {},
   "outputs": [
    {
     "name": "stdout",
     "output_type": "stream",
     "text": [
      " * sqlite:///project.db\n",
      "Done.\n",
      "Done.\n"
     ]
    },
    {
     "data": {
      "text/plain": [
       "[]"
      ]
     },
     "execution_count": 9,
     "metadata": {},
     "output_type": "execute_result"
    }
   ],
   "source": [
    "%%sql\n",
    "\n",
    "drop table if exists careers;\n",
    "\n",
    "create table careers as select \n",
    "player_name, \n",
    "count(*) as total_seasons,\n",
    "count(distinct(team_abbreviation)) as total_teams,\n",
    "round(sum(pts)/count(*), 2) as career_ppg,\n",
    "round(sum(reb)/count(*), 2) as career_rpg,\n",
    "round(sum(ast)/count(*), 2) as career_apg\n",
    "from players group by player_name\n",
    "order by total_seasons desc, career_ppg desc;"
   ]
  },
  {
   "cell_type": "code",
   "execution_count": 10,
   "metadata": {},
   "outputs": [
    {
     "name": "stdout",
     "output_type": "stream",
     "text": [
      " * sqlite:///project.db\n",
      "Done.\n"
     ]
    },
    {
     "data": {
      "text/html": [
       "<table>\n",
       "    <thead>\n",
       "        <tr>\n",
       "            <th>player_name</th>\n",
       "            <th>total_seasons</th>\n",
       "            <th>total_teams</th>\n",
       "            <th>career_ppg</th>\n",
       "            <th>career_rpg</th>\n",
       "            <th>career_apg</th>\n",
       "        </tr>\n",
       "    </thead>\n",
       "    <tbody>\n",
       "        <tr>\n",
       "            <td>Vince Carter</td>\n",
       "            <td>22</td>\n",
       "            <td>8</td>\n",
       "            <td>16.35</td>\n",
       "            <td>4.23</td>\n",
       "            <td>2.97</td>\n",
       "        </tr>\n",
       "        <tr>\n",
       "            <td>Dirk Nowitzki</td>\n",
       "            <td>21</td>\n",
       "            <td>1</td>\n",
       "            <td>20.11</td>\n",
       "            <td>7.35</td>\n",
       "            <td>2.34</td>\n",
       "        </tr>\n",
       "        <tr>\n",
       "            <td>LeBron James</td>\n",
       "            <td>20</td>\n",
       "            <td>3</td>\n",
       "            <td>27.2</td>\n",
       "            <td>7.54</td>\n",
       "            <td>7.34</td>\n",
       "        </tr>\n",
       "        <tr>\n",
       "            <td>Kobe Bryant</td>\n",
       "            <td>20</td>\n",
       "            <td>1</td>\n",
       "            <td>24.2</td>\n",
       "            <td>5.2</td>\n",
       "            <td>4.76</td>\n",
       "        </tr>\n",
       "        <tr>\n",
       "            <td>Kevin Garnett</td>\n",
       "            <td>20</td>\n",
       "            <td>3</td>\n",
       "            <td>17.35</td>\n",
       "            <td>9.83</td>\n",
       "            <td>3.63</td>\n",
       "        </tr>\n",
       "        <tr>\n",
       "            <td>Jamal Crawford</td>\n",
       "            <td>20</td>\n",
       "            <td>9</td>\n",
       "            <td>13.93</td>\n",
       "            <td>2.08</td>\n",
       "            <td>3.36</td>\n",
       "        </tr>\n",
       "        <tr>\n",
       "            <td>Udonis Haslem</td>\n",
       "            <td>20</td>\n",
       "            <td>1</td>\n",
       "            <td>5.83</td>\n",
       "            <td>5.09</td>\n",
       "            <td>0.62</td>\n",
       "        </tr>\n",
       "        <tr>\n",
       "            <td>Carmelo Anthony</td>\n",
       "            <td>19</td>\n",
       "            <td>6</td>\n",
       "            <td>22.02</td>\n",
       "            <td>6.16</td>\n",
       "            <td>2.64</td>\n",
       "        </tr>\n",
       "        <tr>\n",
       "            <td>Paul Pierce</td>\n",
       "            <td>19</td>\n",
       "            <td>4</td>\n",
       "            <td>18.93</td>\n",
       "            <td>5.44</td>\n",
       "            <td>3.36</td>\n",
       "        </tr>\n",
       "        <tr>\n",
       "            <td>Tim Duncan</td>\n",
       "            <td>19</td>\n",
       "            <td>1</td>\n",
       "            <td>18.89</td>\n",
       "            <td>10.77</td>\n",
       "            <td>3.01</td>\n",
       "        </tr>\n",
       "    </tbody>\n",
       "</table>"
      ],
      "text/plain": [
       "[('Vince Carter', 22, 8, 16.35, 4.23, 2.97),\n",
       " ('Dirk Nowitzki', 21, 1, 20.11, 7.35, 2.34),\n",
       " ('LeBron James', 20, 3, 27.2, 7.54, 7.34),\n",
       " ('Kobe Bryant', 20, 1, 24.2, 5.2, 4.76),\n",
       " ('Kevin Garnett', 20, 3, 17.35, 9.83, 3.63),\n",
       " ('Jamal Crawford', 20, 9, 13.93, 2.08, 3.36),\n",
       " ('Udonis Haslem', 20, 1, 5.83, 5.09, 0.62),\n",
       " ('Carmelo Anthony', 19, 6, 22.02, 6.16, 2.64),\n",
       " ('Paul Pierce', 19, 4, 18.93, 5.44, 3.36),\n",
       " ('Tim Duncan', 19, 1, 18.89, 10.77, 3.01)]"
      ]
     },
     "execution_count": 10,
     "metadata": {},
     "output_type": "execute_result"
    }
   ],
   "source": [
    "%sql select * from careers limit 10;"
   ]
  },
  {
   "cell_type": "code",
   "execution_count": 11,
   "metadata": {},
   "outputs": [
    {
     "name": "stdout",
     "output_type": "stream",
     "text": [
      " * sqlite:///project.db\n",
      "Done.\n"
     ]
    },
    {
     "data": {
      "text/html": [
       "<table>\n",
       "    <thead>\n",
       "        <tr>\n",
       "            <th>count(*)</th>\n",
       "        </tr>\n",
       "    </thead>\n",
       "    <tbody>\n",
       "        <tr>\n",
       "            <td>2551</td>\n",
       "        </tr>\n",
       "    </tbody>\n",
       "</table>"
      ],
      "text/plain": [
       "[(2551,)]"
      ]
     },
     "execution_count": 11,
     "metadata": {},
     "output_type": "execute_result"
    }
   ],
   "source": [
    "%sql select count(*) from careers;"
   ]
  },
  {
   "cell_type": "markdown",
   "metadata": {},
   "source": [
    "The table was successfully overwritten to now include multiple new interesting statistics about the players. \n",
    "\n",
    "It contains information about the careers of 2551 NBA-players."
   ]
  },
  {
   "cell_type": "markdown",
   "metadata": {},
   "source": [
    "### Importing RDF sources"
   ]
  },
  {
   "cell_type": "code",
   "execution_count": 12,
   "metadata": {},
   "outputs": [],
   "source": [
    "# installing the necessary package\n",
    "#pip install SPARQLWrapper "
   ]
  },
  {
   "cell_type": "code",
   "execution_count": 13,
   "metadata": {},
   "outputs": [],
   "source": [
    "# importing the packages needed and creating a connection to dbpedia\n",
    "from SPARQLWrapper import SPARQLWrapper, JSON\n",
    "sparql = SPARQLWrapper(\"http://dbpedia.org/sparql\")"
   ]
  },
  {
   "cell_type": "markdown",
   "metadata": {},
   "source": [
    "The following Sparql-query selects the source, the label (in this case the player name) and the birthplace of all objects on DBpedia which are of the type \"BasketballPlayer\". By filtering only for entries of which the language of the player name and birthplace are in english, we eliminate the redundancy of getting every result in multiple languages.\n",
    "\n",
    "I chose to write the query in this form because there is no specific type \"NBAPlayer\". However, this leads to the result including many people that never played in the NBA (for example female players, international players, college players, ...)."
   ]
  },
  {
   "cell_type": "code",
   "execution_count": 14,
   "metadata": {},
   "outputs": [],
   "source": [
    "sparql.setQuery(\"\"\"\n",
    "SELECT ?s ?l ?b WHERE {\n",
    "?s a dbo:BasketballPlayer.\n",
    "?s rdfs:label ?l.\n",
    "?s dbo:birthPlace ?p.\n",
    "?p rdfs:label ?b.\n",
    "FILTER (lang(?l)='en' && lang(?b)='en').\n",
    "} \n",
    "\"\"\")"
   ]
  },
  {
   "cell_type": "markdown",
   "metadata": {},
   "source": [
    "We now set the format of the result from the query to JSON, execute the query and store its results in a variable in JSON-format. "
   ]
  },
  {
   "cell_type": "code",
   "execution_count": 15,
   "metadata": {},
   "outputs": [
    {
     "name": "stdout",
     "output_type": "stream",
     "text": [
      "{'s': {'type': 'uri', 'value': 'http://dbpedia.org/resource/Bill_Hougland'}, 'l': {'type': 'literal', 'xml:lang': 'en', 'value': 'Bill Hougland'}, 'b': {'type': 'literal', 'xml:lang': 'en', 'value': 'Caldwell, Kansas'}}\n",
      "{'s': {'type': 'uri', 'value': 'http://dbpedia.org/resource/Carlisle_Towery'}, 'l': {'type': 'literal', 'xml:lang': 'en', 'value': 'Carlisle Towery'}, 'b': {'type': 'literal', 'xml:lang': 'en', 'value': 'Caldwell County, Kentucky'}}\n",
      "{'s': {'type': 'uri', 'value': 'http://dbpedia.org/resource/Dejan_Vasiljevic'}, 'l': {'type': 'literal', 'xml:lang': 'en', 'value': 'Dejan Vasiljevic'}, 'b': {'type': 'literal', 'xml:lang': 'en', 'value': 'Calgary'}}\n",
      "{'s': {'type': 'uri', 'value': 'http://dbpedia.org/resource/Quincy_Davis_(basketball)'}, 'l': {'type': 'literal', 'xml:lang': 'en', 'value': 'Quincy Davis (basketball)'}, 'b': {'type': 'literal', 'xml:lang': 'en', 'value': 'California'}}\n",
      "{'s': {'type': 'uri', 'value': 'http://dbpedia.org/resource/Bassel_Bawji'}, 'l': {'type': 'literal', 'xml:lang': 'en', 'value': 'Bassel Bawji'}, 'b': {'type': 'literal', 'xml:lang': 'en', 'value': 'California'}}\n",
      "{'s': {'type': 'uri', 'value': 'http://dbpedia.org/resource/Bill_Sweek'}, 'l': {'type': 'literal', 'xml:lang': 'en', 'value': 'Bill Sweek'}, 'b': {'type': 'literal', 'xml:lang': 'en', 'value': 'California'}}\n",
      "{'s': {'type': 'uri', 'value': 'http://dbpedia.org/resource/Benjie_Paras'}, 'l': {'type': 'literal', 'xml:lang': 'en', 'value': 'Benjie Paras'}, 'b': {'type': 'literal', 'xml:lang': 'en', 'value': 'Caloocan'}}\n",
      "{'s': {'type': 'uri', 'value': 'http://dbpedia.org/resource/Bill_Hewitt_(basketball)'}, 'l': {'type': 'literal', 'xml:lang': 'en', 'value': 'Bill Hewitt (basketball)'}, 'b': {'type': 'literal', 'xml:lang': 'en', 'value': 'Cambridge, Massachusetts'}}\n",
      "{'s': {'type': 'uri', 'value': 'http://dbpedia.org/resource/Bob_Armstrong_(basketball,_born_1920)'}, 'l': {'type': 'literal', 'xml:lang': 'en', 'value': 'Bob Armstrong (basketball, born 1920)'}, 'b': {'type': 'literal', 'xml:lang': 'en', 'value': 'Cambridge, Ohio'}}\n",
      "{'s': {'type': 'uri', 'value': 'http://dbpedia.org/resource/Billy_Thompson_(basketball)'}, 'l': {'type': 'literal', 'xml:lang': 'en', 'value': 'Billy Thompson (basketball)'}, 'b': {'type': 'literal', 'xml:lang': 'en', 'value': 'Camden, New Jersey'}}\n"
     ]
    }
   ],
   "source": [
    "sparql.setReturnFormat(JSON)\n",
    "players_birthplace = sparql.query().convert()[\"results\"][\"bindings\"]\n",
    "for res in players_birthplace[:10]:\n",
    "    print(res)"
   ]
  },
  {
   "cell_type": "markdown",
   "metadata": {},
   "source": [
    "### Getting the RDF data into the database"
   ]
  },
  {
   "cell_type": "markdown",
   "metadata": {},
   "source": [
    "We now need to store the result of the Sparql-query as a table in the SQL database in order to be able to combine it with the previously created tables. For this purpose we will utilize pandas capabilities of normalizing JSON-data and then transforming it into an SQL-table."
   ]
  },
  {
   "cell_type": "code",
   "execution_count": 16,
   "metadata": {},
   "outputs": [
    {
     "data": {
      "text/plain": [
       "10000"
      ]
     },
     "execution_count": 16,
     "metadata": {},
     "output_type": "execute_result"
    }
   ],
   "source": [
    "import pandas as pd\n",
    "pd.json_normalize(players_birthplace).to_sql('players_birthplace', \n",
    "                                 conn, \n",
    "                                 if_exists='replace',\n",
    "                                 index=False)"
   ]
  },
  {
   "cell_type": "code",
   "execution_count": 17,
   "metadata": {},
   "outputs": [
    {
     "name": "stdout",
     "output_type": "stream",
     "text": [
      " * sqlite:///project.db\n",
      "Done.\n"
     ]
    },
    {
     "data": {
      "text/html": [
       "<table>\n",
       "    <thead>\n",
       "        <tr>\n",
       "            <th>s.type</th>\n",
       "            <th>s.value</th>\n",
       "            <th>l.type</th>\n",
       "            <th>l.xml:lang</th>\n",
       "            <th>l.value</th>\n",
       "            <th>b.type</th>\n",
       "            <th>b.xml:lang</th>\n",
       "            <th>b.value</th>\n",
       "        </tr>\n",
       "    </thead>\n",
       "    <tbody>\n",
       "        <tr>\n",
       "            <td>uri</td>\n",
       "            <td>http://dbpedia.org/resource/Bill_Hougland</td>\n",
       "            <td>literal</td>\n",
       "            <td>en</td>\n",
       "            <td>Bill Hougland</td>\n",
       "            <td>literal</td>\n",
       "            <td>en</td>\n",
       "            <td>Caldwell, Kansas</td>\n",
       "        </tr>\n",
       "        <tr>\n",
       "            <td>uri</td>\n",
       "            <td>http://dbpedia.org/resource/Carlisle_Towery</td>\n",
       "            <td>literal</td>\n",
       "            <td>en</td>\n",
       "            <td>Carlisle Towery</td>\n",
       "            <td>literal</td>\n",
       "            <td>en</td>\n",
       "            <td>Caldwell County, Kentucky</td>\n",
       "        </tr>\n",
       "        <tr>\n",
       "            <td>uri</td>\n",
       "            <td>http://dbpedia.org/resource/Dejan_Vasiljevic</td>\n",
       "            <td>literal</td>\n",
       "            <td>en</td>\n",
       "            <td>Dejan Vasiljevic</td>\n",
       "            <td>literal</td>\n",
       "            <td>en</td>\n",
       "            <td>Calgary</td>\n",
       "        </tr>\n",
       "        <tr>\n",
       "            <td>uri</td>\n",
       "            <td>http://dbpedia.org/resource/Quincy_Davis_(basketball)</td>\n",
       "            <td>literal</td>\n",
       "            <td>en</td>\n",
       "            <td>Quincy Davis (basketball)</td>\n",
       "            <td>literal</td>\n",
       "            <td>en</td>\n",
       "            <td>California</td>\n",
       "        </tr>\n",
       "        <tr>\n",
       "            <td>uri</td>\n",
       "            <td>http://dbpedia.org/resource/Bassel_Bawji</td>\n",
       "            <td>literal</td>\n",
       "            <td>en</td>\n",
       "            <td>Bassel Bawji</td>\n",
       "            <td>literal</td>\n",
       "            <td>en</td>\n",
       "            <td>California</td>\n",
       "        </tr>\n",
       "        <tr>\n",
       "            <td>uri</td>\n",
       "            <td>http://dbpedia.org/resource/Bill_Sweek</td>\n",
       "            <td>literal</td>\n",
       "            <td>en</td>\n",
       "            <td>Bill Sweek</td>\n",
       "            <td>literal</td>\n",
       "            <td>en</td>\n",
       "            <td>California</td>\n",
       "        </tr>\n",
       "        <tr>\n",
       "            <td>uri</td>\n",
       "            <td>http://dbpedia.org/resource/Benjie_Paras</td>\n",
       "            <td>literal</td>\n",
       "            <td>en</td>\n",
       "            <td>Benjie Paras</td>\n",
       "            <td>literal</td>\n",
       "            <td>en</td>\n",
       "            <td>Caloocan</td>\n",
       "        </tr>\n",
       "        <tr>\n",
       "            <td>uri</td>\n",
       "            <td>http://dbpedia.org/resource/Bill_Hewitt_(basketball)</td>\n",
       "            <td>literal</td>\n",
       "            <td>en</td>\n",
       "            <td>Bill Hewitt (basketball)</td>\n",
       "            <td>literal</td>\n",
       "            <td>en</td>\n",
       "            <td>Cambridge, Massachusetts</td>\n",
       "        </tr>\n",
       "        <tr>\n",
       "            <td>uri</td>\n",
       "            <td>http://dbpedia.org/resource/Bob_Armstrong_(basketball,_born_1920)</td>\n",
       "            <td>literal</td>\n",
       "            <td>en</td>\n",
       "            <td>Bob Armstrong (basketball, born 1920)</td>\n",
       "            <td>literal</td>\n",
       "            <td>en</td>\n",
       "            <td>Cambridge, Ohio</td>\n",
       "        </tr>\n",
       "        <tr>\n",
       "            <td>uri</td>\n",
       "            <td>http://dbpedia.org/resource/Billy_Thompson_(basketball)</td>\n",
       "            <td>literal</td>\n",
       "            <td>en</td>\n",
       "            <td>Billy Thompson (basketball)</td>\n",
       "            <td>literal</td>\n",
       "            <td>en</td>\n",
       "            <td>Camden, New Jersey</td>\n",
       "        </tr>\n",
       "    </tbody>\n",
       "</table>"
      ],
      "text/plain": [
       "[('uri', 'http://dbpedia.org/resource/Bill_Hougland', 'literal', 'en', 'Bill Hougland', 'literal', 'en', 'Caldwell, Kansas'),\n",
       " ('uri', 'http://dbpedia.org/resource/Carlisle_Towery', 'literal', 'en', 'Carlisle Towery', 'literal', 'en', 'Caldwell County, Kentucky'),\n",
       " ('uri', 'http://dbpedia.org/resource/Dejan_Vasiljevic', 'literal', 'en', 'Dejan Vasiljevic', 'literal', 'en', 'Calgary'),\n",
       " ('uri', 'http://dbpedia.org/resource/Quincy_Davis_(basketball)', 'literal', 'en', 'Quincy Davis (basketball)', 'literal', 'en', 'California'),\n",
       " ('uri', 'http://dbpedia.org/resource/Bassel_Bawji', 'literal', 'en', 'Bassel Bawji', 'literal', 'en', 'California'),\n",
       " ('uri', 'http://dbpedia.org/resource/Bill_Sweek', 'literal', 'en', 'Bill Sweek', 'literal', 'en', 'California'),\n",
       " ('uri', 'http://dbpedia.org/resource/Benjie_Paras', 'literal', 'en', 'Benjie Paras', 'literal', 'en', 'Caloocan'),\n",
       " ('uri', 'http://dbpedia.org/resource/Bill_Hewitt_(basketball)', 'literal', 'en', 'Bill Hewitt (basketball)', 'literal', 'en', 'Cambridge, Massachusetts'),\n",
       " ('uri', 'http://dbpedia.org/resource/Bob_Armstrong_(basketball,_born_1920)', 'literal', 'en', 'Bob Armstrong (basketball, born 1920)', 'literal', 'en', 'Cambridge, Ohio'),\n",
       " ('uri', 'http://dbpedia.org/resource/Billy_Thompson_(basketball)', 'literal', 'en', 'Billy Thompson (basketball)', 'literal', 'en', 'Camden, New Jersey')]"
      ]
     },
     "execution_count": 17,
     "metadata": {},
     "output_type": "execute_result"
    }
   ],
   "source": [
    "%%sql\n",
    "\n",
    "select * from players_birthplace limit 10;"
   ]
  },
  {
   "cell_type": "markdown",
   "metadata": {},
   "source": [
    "Because this table includes a lot of unnecessary columns, we can reduce it by creating a new one just including the essential ones and renaming them."
   ]
  },
  {
   "cell_type": "code",
   "execution_count": 18,
   "metadata": {},
   "outputs": [
    {
     "name": "stdout",
     "output_type": "stream",
     "text": [
      " * sqlite:///project.db\n",
      "Done.\n",
      "Done.\n"
     ]
    },
    {
     "data": {
      "text/plain": [
       "[]"
      ]
     },
     "execution_count": 18,
     "metadata": {},
     "output_type": "execute_result"
    }
   ],
   "source": [
    "%%sql\n",
    "\n",
    "drop table if exists players_birthplace2;\n",
    "\n",
    "create table players_birthplace2 as select \"l.value\" as player_name, \n",
    "\"b.value\" as birthplace from players_birthplace;"
   ]
  },
  {
   "cell_type": "code",
   "execution_count": 19,
   "metadata": {},
   "outputs": [
    {
     "name": "stdout",
     "output_type": "stream",
     "text": [
      " * sqlite:///project.db\n",
      "Done.\n"
     ]
    },
    {
     "data": {
      "text/html": [
       "<table>\n",
       "    <thead>\n",
       "        <tr>\n",
       "            <th>player_name</th>\n",
       "            <th>birthplace</th>\n",
       "        </tr>\n",
       "    </thead>\n",
       "    <tbody>\n",
       "        <tr>\n",
       "            <td>Bill Hougland</td>\n",
       "            <td>Caldwell, Kansas</td>\n",
       "        </tr>\n",
       "        <tr>\n",
       "            <td>Carlisle Towery</td>\n",
       "            <td>Caldwell County, Kentucky</td>\n",
       "        </tr>\n",
       "        <tr>\n",
       "            <td>Dejan Vasiljevic</td>\n",
       "            <td>Calgary</td>\n",
       "        </tr>\n",
       "        <tr>\n",
       "            <td>Quincy Davis (basketball)</td>\n",
       "            <td>California</td>\n",
       "        </tr>\n",
       "        <tr>\n",
       "            <td>Bassel Bawji</td>\n",
       "            <td>California</td>\n",
       "        </tr>\n",
       "        <tr>\n",
       "            <td>Bill Sweek</td>\n",
       "            <td>California</td>\n",
       "        </tr>\n",
       "        <tr>\n",
       "            <td>Benjie Paras</td>\n",
       "            <td>Caloocan</td>\n",
       "        </tr>\n",
       "        <tr>\n",
       "            <td>Bill Hewitt (basketball)</td>\n",
       "            <td>Cambridge, Massachusetts</td>\n",
       "        </tr>\n",
       "        <tr>\n",
       "            <td>Bob Armstrong (basketball, born 1920)</td>\n",
       "            <td>Cambridge, Ohio</td>\n",
       "        </tr>\n",
       "        <tr>\n",
       "            <td>Billy Thompson (basketball)</td>\n",
       "            <td>Camden, New Jersey</td>\n",
       "        </tr>\n",
       "    </tbody>\n",
       "</table>"
      ],
      "text/plain": [
       "[('Bill Hougland', 'Caldwell, Kansas'),\n",
       " ('Carlisle Towery', 'Caldwell County, Kentucky'),\n",
       " ('Dejan Vasiljevic', 'Calgary'),\n",
       " ('Quincy Davis (basketball)', 'California'),\n",
       " ('Bassel Bawji', 'California'),\n",
       " ('Bill Sweek', 'California'),\n",
       " ('Benjie Paras', 'Caloocan'),\n",
       " ('Bill Hewitt (basketball)', 'Cambridge, Massachusetts'),\n",
       " ('Bob Armstrong (basketball, born 1920)', 'Cambridge, Ohio'),\n",
       " ('Billy Thompson (basketball)', 'Camden, New Jersey')]"
      ]
     },
     "execution_count": 19,
     "metadata": {},
     "output_type": "execute_result"
    }
   ],
   "source": [
    "%sql select * from players_birthplace2 limit 10;"
   ]
  },
  {
   "cell_type": "code",
   "execution_count": 20,
   "metadata": {},
   "outputs": [
    {
     "name": "stdout",
     "output_type": "stream",
     "text": [
      " * sqlite:///project.db\n",
      "Done.\n"
     ]
    },
    {
     "data": {
      "text/html": [
       "<table>\n",
       "    <thead>\n",
       "        <tr>\n",
       "            <th>count(*)</th>\n",
       "        </tr>\n",
       "    </thead>\n",
       "    <tbody>\n",
       "        <tr>\n",
       "            <td>10000</td>\n",
       "        </tr>\n",
       "    </tbody>\n",
       "</table>"
      ],
      "text/plain": [
       "[(10000,)]"
      ]
     },
     "execution_count": 20,
     "metadata": {},
     "output_type": "execute_result"
    }
   ],
   "source": [
    "%sql select count(*) from players_birthplace2;"
   ]
  },
  {
   "cell_type": "markdown",
   "metadata": {},
   "source": [
    "The resulting table stores information of 10000 basketball players' names and birthplaces."
   ]
  },
  {
   "cell_type": "markdown",
   "metadata": {},
   "source": [
    "### Combining the data"
   ]
  },
  {
   "cell_type": "markdown",
   "metadata": {},
   "source": [
    "We will now combine these two tables into one via a left join on the player's name. \n",
    "This left join is used here to enhance the careers-table with a new column containing the birthplace of the player."
   ]
  },
  {
   "cell_type": "code",
   "execution_count": 21,
   "metadata": {},
   "outputs": [
    {
     "name": "stdout",
     "output_type": "stream",
     "text": [
      " * sqlite:///project.db\n",
      "Done.\n",
      "Done.\n"
     ]
    },
    {
     "data": {
      "text/plain": [
       "[]"
      ]
     },
     "execution_count": 21,
     "metadata": {},
     "output_type": "execute_result"
    }
   ],
   "source": [
    "%%sql\n",
    "\n",
    "drop table if exists careers_birthplace;\n",
    "\n",
    "create table careers_birthplace as \n",
    "select * from careers\n",
    "left join players_birthplace2\n",
    "on careers.player_name = players_birthplace2.player_name;"
   ]
  },
  {
   "cell_type": "code",
   "execution_count": 29,
   "metadata": {},
   "outputs": [
    {
     "name": "stdout",
     "output_type": "stream",
     "text": [
      " * sqlite:///project.db\n",
      "Done.\n"
     ]
    },
    {
     "data": {
      "text/html": [
       "<table>\n",
       "    <thead>\n",
       "        <tr>\n",
       "            <th>player_name</th>\n",
       "            <th>total_seasons</th>\n",
       "            <th>total_teams</th>\n",
       "            <th>career_ppg</th>\n",
       "            <th>career_rpg</th>\n",
       "            <th>career_apg</th>\n",
       "            <th>player_name:1</th>\n",
       "            <th>birthplace</th>\n",
       "        </tr>\n",
       "    </thead>\n",
       "    <tbody>\n",
       "        <tr>\n",
       "            <td>Vince Carter</td>\n",
       "            <td>22</td>\n",
       "            <td>8</td>\n",
       "            <td>16.35</td>\n",
       "            <td>4.23</td>\n",
       "            <td>2.97</td>\n",
       "            <td>Vince Carter</td>\n",
       "            <td>Daytona Beach, Florida</td>\n",
       "        </tr>\n",
       "        <tr>\n",
       "            <td>Dirk Nowitzki</td>\n",
       "            <td>21</td>\n",
       "            <td>1</td>\n",
       "            <td>20.11</td>\n",
       "            <td>7.35</td>\n",
       "            <td>2.34</td>\n",
       "            <td>None</td>\n",
       "            <td>None</td>\n",
       "        </tr>\n",
       "        <tr>\n",
       "            <td>LeBron James</td>\n",
       "            <td>20</td>\n",
       "            <td>3</td>\n",
       "            <td>27.2</td>\n",
       "            <td>7.54</td>\n",
       "            <td>7.34</td>\n",
       "            <td>None</td>\n",
       "            <td>None</td>\n",
       "        </tr>\n",
       "        <tr>\n",
       "            <td>Kobe Bryant</td>\n",
       "            <td>20</td>\n",
       "            <td>1</td>\n",
       "            <td>24.2</td>\n",
       "            <td>5.2</td>\n",
       "            <td>4.76</td>\n",
       "            <td>None</td>\n",
       "            <td>None</td>\n",
       "        </tr>\n",
       "        <tr>\n",
       "            <td>Kevin Garnett</td>\n",
       "            <td>20</td>\n",
       "            <td>3</td>\n",
       "            <td>17.35</td>\n",
       "            <td>9.83</td>\n",
       "            <td>3.63</td>\n",
       "            <td>None</td>\n",
       "            <td>None</td>\n",
       "        </tr>\n",
       "        <tr>\n",
       "            <td>Jamal Crawford</td>\n",
       "            <td>20</td>\n",
       "            <td>9</td>\n",
       "            <td>13.93</td>\n",
       "            <td>2.08</td>\n",
       "            <td>3.36</td>\n",
       "            <td>None</td>\n",
       "            <td>None</td>\n",
       "        </tr>\n",
       "        <tr>\n",
       "            <td>Udonis Haslem</td>\n",
       "            <td>20</td>\n",
       "            <td>1</td>\n",
       "            <td>5.83</td>\n",
       "            <td>5.09</td>\n",
       "            <td>0.62</td>\n",
       "            <td>Udonis Haslem</td>\n",
       "            <td>Miami, Florida</td>\n",
       "        </tr>\n",
       "        <tr>\n",
       "            <td>Carmelo Anthony</td>\n",
       "            <td>19</td>\n",
       "            <td>6</td>\n",
       "            <td>22.02</td>\n",
       "            <td>6.16</td>\n",
       "            <td>2.64</td>\n",
       "            <td>Carmelo Anthony</td>\n",
       "            <td>2010–11 New York Knicks season</td>\n",
       "        </tr>\n",
       "        <tr>\n",
       "            <td>Carmelo Anthony</td>\n",
       "            <td>19</td>\n",
       "            <td>6</td>\n",
       "            <td>22.02</td>\n",
       "            <td>6.16</td>\n",
       "            <td>2.64</td>\n",
       "            <td>Carmelo Anthony</td>\n",
       "            <td>New York City</td>\n",
       "        </tr>\n",
       "        <tr>\n",
       "            <td>Paul Pierce</td>\n",
       "            <td>19</td>\n",
       "            <td>4</td>\n",
       "            <td>18.93</td>\n",
       "            <td>5.44</td>\n",
       "            <td>3.36</td>\n",
       "            <td>Paul Pierce</td>\n",
       "            <td>Oakland, California</td>\n",
       "        </tr>\n",
       "        <tr>\n",
       "            <td>Tim Duncan</td>\n",
       "            <td>19</td>\n",
       "            <td>1</td>\n",
       "            <td>18.89</td>\n",
       "            <td>10.77</td>\n",
       "            <td>3.01</td>\n",
       "            <td>Tim Duncan</td>\n",
       "            <td>Saint Croix</td>\n",
       "        </tr>\n",
       "        <tr>\n",
       "            <td>Tim Duncan</td>\n",
       "            <td>19</td>\n",
       "            <td>1</td>\n",
       "            <td>18.89</td>\n",
       "            <td>10.77</td>\n",
       "            <td>3.01</td>\n",
       "            <td>Tim Duncan</td>\n",
       "            <td>United States Virgin Islands</td>\n",
       "        </tr>\n",
       "        <tr>\n",
       "            <td>Jason Terry</td>\n",
       "            <td>19</td>\n",
       "            <td>6</td>\n",
       "            <td>12.88</td>\n",
       "            <td>2.25</td>\n",
       "            <td>3.69</td>\n",
       "            <td>None</td>\n",
       "            <td>None</td>\n",
       "        </tr>\n",
       "        <tr>\n",
       "            <td>Andre Iguodala</td>\n",
       "            <td>19</td>\n",
       "            <td>4</td>\n",
       "            <td>10.17</td>\n",
       "            <td>4.64</td>\n",
       "            <td>4.01</td>\n",
       "            <td>Andre Iguodala</td>\n",
       "            <td>Springfield, Illinois</td>\n",
       "        </tr>\n",
       "        <tr>\n",
       "            <td>Tyson Chandler</td>\n",
       "            <td>19</td>\n",
       "            <td>9</td>\n",
       "            <td>7.82</td>\n",
       "            <td>8.72</td>\n",
       "            <td>0.79</td>\n",
       "            <td>None</td>\n",
       "            <td>None</td>\n",
       "        </tr>\n",
       "        <tr>\n",
       "            <td>Ray Allen</td>\n",
       "            <td>18</td>\n",
       "            <td>4</td>\n",
       "            <td>18.88</td>\n",
       "            <td>4.05</td>\n",
       "            <td>3.38</td>\n",
       "            <td>None</td>\n",
       "            <td>None</td>\n",
       "        </tr>\n",
       "        <tr>\n",
       "            <td>Chris Paul</td>\n",
       "            <td>18</td>\n",
       "            <td>6</td>\n",
       "            <td>17.84</td>\n",
       "            <td>4.49</td>\n",
       "            <td>9.45</td>\n",
       "            <td>Chris Paul</td>\n",
       "            <td>Winston-Salem, North Carolina</td>\n",
       "        </tr>\n",
       "        <tr>\n",
       "            <td>Pau Gasol</td>\n",
       "            <td>18</td>\n",
       "            <td>5</td>\n",
       "            <td>16.56</td>\n",
       "            <td>9.04</td>\n",
       "            <td>3.16</td>\n",
       "            <td>Pau Gasol</td>\n",
       "            <td>Barcelona</td>\n",
       "        </tr>\n",
       "        <tr>\n",
       "            <td>Pau Gasol</td>\n",
       "            <td>18</td>\n",
       "            <td>5</td>\n",
       "            <td>16.56</td>\n",
       "            <td>9.04</td>\n",
       "            <td>3.16</td>\n",
       "            <td>Pau Gasol</td>\n",
       "            <td>Spain national basketball team</td>\n",
       "        </tr>\n",
       "        <tr>\n",
       "            <td>Dwight Howard</td>\n",
       "            <td>18</td>\n",
       "            <td>7</td>\n",
       "            <td>15.39</td>\n",
       "            <td>11.53</td>\n",
       "            <td>1.29</td>\n",
       "            <td>None</td>\n",
       "            <td>None</td>\n",
       "        </tr>\n",
       "    </tbody>\n",
       "</table>"
      ],
      "text/plain": [
       "[('Vince Carter', 22, 8, 16.35, 4.23, 2.97, 'Vince Carter', 'Daytona Beach, Florida'),\n",
       " ('Dirk Nowitzki', 21, 1, 20.11, 7.35, 2.34, None, None),\n",
       " ('LeBron James', 20, 3, 27.2, 7.54, 7.34, None, None),\n",
       " ('Kobe Bryant', 20, 1, 24.2, 5.2, 4.76, None, None),\n",
       " ('Kevin Garnett', 20, 3, 17.35, 9.83, 3.63, None, None),\n",
       " ('Jamal Crawford', 20, 9, 13.93, 2.08, 3.36, None, None),\n",
       " ('Udonis Haslem', 20, 1, 5.83, 5.09, 0.62, 'Udonis Haslem', 'Miami, Florida'),\n",
       " ('Carmelo Anthony', 19, 6, 22.02, 6.16, 2.64, 'Carmelo Anthony', '2010–11 New York Knicks season'),\n",
       " ('Carmelo Anthony', 19, 6, 22.02, 6.16, 2.64, 'Carmelo Anthony', 'New York City'),\n",
       " ('Paul Pierce', 19, 4, 18.93, 5.44, 3.36, 'Paul Pierce', 'Oakland, California'),\n",
       " ('Tim Duncan', 19, 1, 18.89, 10.77, 3.01, 'Tim Duncan', 'Saint Croix'),\n",
       " ('Tim Duncan', 19, 1, 18.89, 10.77, 3.01, 'Tim Duncan', 'United States Virgin Islands'),\n",
       " ('Jason Terry', 19, 6, 12.88, 2.25, 3.69, None, None),\n",
       " ('Andre Iguodala', 19, 4, 10.17, 4.64, 4.01, 'Andre Iguodala', 'Springfield, Illinois'),\n",
       " ('Tyson Chandler', 19, 9, 7.82, 8.72, 0.79, None, None),\n",
       " ('Ray Allen', 18, 4, 18.88, 4.05, 3.38, None, None),\n",
       " ('Chris Paul', 18, 6, 17.84, 4.49, 9.45, 'Chris Paul', 'Winston-Salem, North Carolina'),\n",
       " ('Pau Gasol', 18, 5, 16.56, 9.04, 3.16, 'Pau Gasol', 'Barcelona'),\n",
       " ('Pau Gasol', 18, 5, 16.56, 9.04, 3.16, 'Pau Gasol', 'Spain national basketball team'),\n",
       " ('Dwight Howard', 18, 7, 15.39, 11.53, 1.29, None, None)]"
      ]
     },
     "execution_count": 29,
     "metadata": {},
     "output_type": "execute_result"
    }
   ],
   "source": [
    "%%sql\n",
    "\n",
    "select * from careers_birthplace limit 20;"
   ]
  },
  {
   "cell_type": "markdown",
   "metadata": {},
   "source": [
    "Joining the two tables worked, however there are some issues with the result. \n",
    "\n",
    "As you can see from the first 20 rows above, the players Carmelo Anthony, Tim Duncan and Pau Gasol now appear in two rows with different values in the \"birthplace\"-column. This happened because for some players the birthplace-value is stored incorrectly on DBpedia and actually includes multiple values which sometimes do not represent the correct birthplace of the player. \n",
    "\n",
    "For example, for the player Carmelo Anthony there are two values stored on DBpedia as his birthplace: \"New York City\" and \"2010-11 New York Knicks season\"."
   ]
  },
  {
   "cell_type": "code",
   "execution_count": 23,
   "metadata": {},
   "outputs": [
    {
     "name": "stdout",
     "output_type": "stream",
     "text": [
      " * sqlite:///project.db\n",
      "Done.\n"
     ]
    },
    {
     "data": {
      "text/html": [
       "<table>\n",
       "    <thead>\n",
       "        <tr>\n",
       "            <th>count(*)</th>\n",
       "        </tr>\n",
       "    </thead>\n",
       "    <tbody>\n",
       "        <tr>\n",
       "            <td>2651</td>\n",
       "        </tr>\n",
       "    </tbody>\n",
       "</table>"
      ],
      "text/plain": [
       "[(2651,)]"
      ]
     },
     "execution_count": 23,
     "metadata": {},
     "output_type": "execute_result"
    }
   ],
   "source": [
    "%%sql\n",
    "\n",
    "select count(*) from careers_birthplace limit 10;"
   ]
  },
  {
   "cell_type": "markdown",
   "metadata": {},
   "source": [
    "This mistake occured 103 times while joining the tables, as the careers_birthplace-table has 103 rows more than the original careers-table. This means there are 103 duplicated careers, each having a different entry in the birthplace-column."
   ]
  },
  {
   "cell_type": "markdown",
   "metadata": {},
   "source": [
    "We can simplify the table by recreating it and leaving out the unwanted columns."
   ]
  },
  {
   "cell_type": "code",
   "execution_count": 24,
   "metadata": {},
   "outputs": [
    {
     "name": "stdout",
     "output_type": "stream",
     "text": [
      " * sqlite:///project.db\n",
      "Done.\n",
      "Done.\n",
      "Done.\n"
     ]
    },
    {
     "data": {
      "text/html": [
       "<table>\n",
       "    <thead>\n",
       "        <tr>\n",
       "            <th>player_name</th>\n",
       "            <th>total_seasons</th>\n",
       "            <th>total_teams</th>\n",
       "            <th>career_ppg</th>\n",
       "            <th>career_rpg</th>\n",
       "            <th>career_apg</th>\n",
       "            <th>birthplace</th>\n",
       "        </tr>\n",
       "    </thead>\n",
       "    <tbody>\n",
       "        <tr>\n",
       "            <td>Vince Carter</td>\n",
       "            <td>22</td>\n",
       "            <td>8</td>\n",
       "            <td>16.35</td>\n",
       "            <td>4.23</td>\n",
       "            <td>2.97</td>\n",
       "            <td>Daytona Beach, Florida</td>\n",
       "        </tr>\n",
       "        <tr>\n",
       "            <td>Dirk Nowitzki</td>\n",
       "            <td>21</td>\n",
       "            <td>1</td>\n",
       "            <td>20.11</td>\n",
       "            <td>7.35</td>\n",
       "            <td>2.34</td>\n",
       "            <td>None</td>\n",
       "        </tr>\n",
       "        <tr>\n",
       "            <td>LeBron James</td>\n",
       "            <td>20</td>\n",
       "            <td>3</td>\n",
       "            <td>27.2</td>\n",
       "            <td>7.54</td>\n",
       "            <td>7.34</td>\n",
       "            <td>None</td>\n",
       "        </tr>\n",
       "        <tr>\n",
       "            <td>Kobe Bryant</td>\n",
       "            <td>20</td>\n",
       "            <td>1</td>\n",
       "            <td>24.2</td>\n",
       "            <td>5.2</td>\n",
       "            <td>4.76</td>\n",
       "            <td>None</td>\n",
       "        </tr>\n",
       "        <tr>\n",
       "            <td>Kevin Garnett</td>\n",
       "            <td>20</td>\n",
       "            <td>3</td>\n",
       "            <td>17.35</td>\n",
       "            <td>9.83</td>\n",
       "            <td>3.63</td>\n",
       "            <td>None</td>\n",
       "        </tr>\n",
       "        <tr>\n",
       "            <td>Jamal Crawford</td>\n",
       "            <td>20</td>\n",
       "            <td>9</td>\n",
       "            <td>13.93</td>\n",
       "            <td>2.08</td>\n",
       "            <td>3.36</td>\n",
       "            <td>None</td>\n",
       "        </tr>\n",
       "        <tr>\n",
       "            <td>Udonis Haslem</td>\n",
       "            <td>20</td>\n",
       "            <td>1</td>\n",
       "            <td>5.83</td>\n",
       "            <td>5.09</td>\n",
       "            <td>0.62</td>\n",
       "            <td>Miami, Florida</td>\n",
       "        </tr>\n",
       "        <tr>\n",
       "            <td>Carmelo Anthony</td>\n",
       "            <td>19</td>\n",
       "            <td>6</td>\n",
       "            <td>22.02</td>\n",
       "            <td>6.16</td>\n",
       "            <td>2.64</td>\n",
       "            <td>2010–11 New York Knicks season</td>\n",
       "        </tr>\n",
       "        <tr>\n",
       "            <td>Carmelo Anthony</td>\n",
       "            <td>19</td>\n",
       "            <td>6</td>\n",
       "            <td>22.02</td>\n",
       "            <td>6.16</td>\n",
       "            <td>2.64</td>\n",
       "            <td>New York City</td>\n",
       "        </tr>\n",
       "        <tr>\n",
       "            <td>Paul Pierce</td>\n",
       "            <td>19</td>\n",
       "            <td>4</td>\n",
       "            <td>18.93</td>\n",
       "            <td>5.44</td>\n",
       "            <td>3.36</td>\n",
       "            <td>Oakland, California</td>\n",
       "        </tr>\n",
       "        <tr>\n",
       "            <td>Tim Duncan</td>\n",
       "            <td>19</td>\n",
       "            <td>1</td>\n",
       "            <td>18.89</td>\n",
       "            <td>10.77</td>\n",
       "            <td>3.01</td>\n",
       "            <td>Saint Croix</td>\n",
       "        </tr>\n",
       "        <tr>\n",
       "            <td>Tim Duncan</td>\n",
       "            <td>19</td>\n",
       "            <td>1</td>\n",
       "            <td>18.89</td>\n",
       "            <td>10.77</td>\n",
       "            <td>3.01</td>\n",
       "            <td>United States Virgin Islands</td>\n",
       "        </tr>\n",
       "        <tr>\n",
       "            <td>Jason Terry</td>\n",
       "            <td>19</td>\n",
       "            <td>6</td>\n",
       "            <td>12.88</td>\n",
       "            <td>2.25</td>\n",
       "            <td>3.69</td>\n",
       "            <td>None</td>\n",
       "        </tr>\n",
       "        <tr>\n",
       "            <td>Andre Iguodala</td>\n",
       "            <td>19</td>\n",
       "            <td>4</td>\n",
       "            <td>10.17</td>\n",
       "            <td>4.64</td>\n",
       "            <td>4.01</td>\n",
       "            <td>Springfield, Illinois</td>\n",
       "        </tr>\n",
       "        <tr>\n",
       "            <td>Tyson Chandler</td>\n",
       "            <td>19</td>\n",
       "            <td>9</td>\n",
       "            <td>7.82</td>\n",
       "            <td>8.72</td>\n",
       "            <td>0.79</td>\n",
       "            <td>None</td>\n",
       "        </tr>\n",
       "        <tr>\n",
       "            <td>Ray Allen</td>\n",
       "            <td>18</td>\n",
       "            <td>4</td>\n",
       "            <td>18.88</td>\n",
       "            <td>4.05</td>\n",
       "            <td>3.38</td>\n",
       "            <td>None</td>\n",
       "        </tr>\n",
       "        <tr>\n",
       "            <td>Chris Paul</td>\n",
       "            <td>18</td>\n",
       "            <td>6</td>\n",
       "            <td>17.84</td>\n",
       "            <td>4.49</td>\n",
       "            <td>9.45</td>\n",
       "            <td>Winston-Salem, North Carolina</td>\n",
       "        </tr>\n",
       "        <tr>\n",
       "            <td>Pau Gasol</td>\n",
       "            <td>18</td>\n",
       "            <td>5</td>\n",
       "            <td>16.56</td>\n",
       "            <td>9.04</td>\n",
       "            <td>3.16</td>\n",
       "            <td>Barcelona</td>\n",
       "        </tr>\n",
       "        <tr>\n",
       "            <td>Pau Gasol</td>\n",
       "            <td>18</td>\n",
       "            <td>5</td>\n",
       "            <td>16.56</td>\n",
       "            <td>9.04</td>\n",
       "            <td>3.16</td>\n",
       "            <td>Spain national basketball team</td>\n",
       "        </tr>\n",
       "        <tr>\n",
       "            <td>Dwight Howard</td>\n",
       "            <td>18</td>\n",
       "            <td>7</td>\n",
       "            <td>15.39</td>\n",
       "            <td>11.53</td>\n",
       "            <td>1.29</td>\n",
       "            <td>None</td>\n",
       "        </tr>\n",
       "    </tbody>\n",
       "</table>"
      ],
      "text/plain": [
       "[('Vince Carter', 22, 8, 16.35, 4.23, 2.97, 'Daytona Beach, Florida'),\n",
       " ('Dirk Nowitzki', 21, 1, 20.11, 7.35, 2.34, None),\n",
       " ('LeBron James', 20, 3, 27.2, 7.54, 7.34, None),\n",
       " ('Kobe Bryant', 20, 1, 24.2, 5.2, 4.76, None),\n",
       " ('Kevin Garnett', 20, 3, 17.35, 9.83, 3.63, None),\n",
       " ('Jamal Crawford', 20, 9, 13.93, 2.08, 3.36, None),\n",
       " ('Udonis Haslem', 20, 1, 5.83, 5.09, 0.62, 'Miami, Florida'),\n",
       " ('Carmelo Anthony', 19, 6, 22.02, 6.16, 2.64, '2010–11 New York Knicks season'),\n",
       " ('Carmelo Anthony', 19, 6, 22.02, 6.16, 2.64, 'New York City'),\n",
       " ('Paul Pierce', 19, 4, 18.93, 5.44, 3.36, 'Oakland, California'),\n",
       " ('Tim Duncan', 19, 1, 18.89, 10.77, 3.01, 'Saint Croix'),\n",
       " ('Tim Duncan', 19, 1, 18.89, 10.77, 3.01, 'United States Virgin Islands'),\n",
       " ('Jason Terry', 19, 6, 12.88, 2.25, 3.69, None),\n",
       " ('Andre Iguodala', 19, 4, 10.17, 4.64, 4.01, 'Springfield, Illinois'),\n",
       " ('Tyson Chandler', 19, 9, 7.82, 8.72, 0.79, None),\n",
       " ('Ray Allen', 18, 4, 18.88, 4.05, 3.38, None),\n",
       " ('Chris Paul', 18, 6, 17.84, 4.49, 9.45, 'Winston-Salem, North Carolina'),\n",
       " ('Pau Gasol', 18, 5, 16.56, 9.04, 3.16, 'Barcelona'),\n",
       " ('Pau Gasol', 18, 5, 16.56, 9.04, 3.16, 'Spain national basketball team'),\n",
       " ('Dwight Howard', 18, 7, 15.39, 11.53, 1.29, None)]"
      ]
     },
     "execution_count": 24,
     "metadata": {},
     "output_type": "execute_result"
    }
   ],
   "source": [
    "%%sql \n",
    "\n",
    "drop table if exists careers_birthplace2;\n",
    "create table careers_birthplace2 as\n",
    "select player_name, total_seasons, total_teams, career_ppg, career_rpg, career_apg, birthplace \n",
    "from careers_birthplace;\n",
    "\n",
    "select * from careers_birthplace2 limit 20;"
   ]
  },
  {
   "cell_type": "markdown",
   "metadata": {},
   "source": [
    "### Saving the result as a CSV"
   ]
  },
  {
   "cell_type": "markdown",
   "metadata": {},
   "source": [
    "As a final step, we will store our result as a CSV file. We will utilize the capabilities of pandas once again.\n",
    "\n",
    "For this purpose, we have to create a SQL-Alchemy connection to the database in order to transform the SQL-table to a Pandas dataframe. After that, we can turn that dataframe into a CSV file, which is automatically saved in the directory. "
   ]
  },
  {
   "cell_type": "code",
   "execution_count": 25,
   "metadata": {},
   "outputs": [],
   "source": [
    "# importing the module necessary\n",
    "from sqlalchemy import create_engine\n",
    " \n",
    "# SQLAlchemy connection to our database\n",
    "cn = create_engine('sqlite:///project.db').connect()"
   ]
  },
  {
   "cell_type": "code",
   "execution_count": 26,
   "metadata": {},
   "outputs": [
    {
     "data": {
      "text/html": [
       "<div>\n",
       "<style scoped>\n",
       "    .dataframe tbody tr th:only-of-type {\n",
       "        vertical-align: middle;\n",
       "    }\n",
       "\n",
       "    .dataframe tbody tr th {\n",
       "        vertical-align: top;\n",
       "    }\n",
       "\n",
       "    .dataframe thead th {\n",
       "        text-align: right;\n",
       "    }\n",
       "</style>\n",
       "<table border=\"1\" class=\"dataframe\">\n",
       "  <thead>\n",
       "    <tr style=\"text-align: right;\">\n",
       "      <th></th>\n",
       "      <th>player_name</th>\n",
       "      <th>total_seasons</th>\n",
       "      <th>total_teams</th>\n",
       "      <th>career_ppg</th>\n",
       "      <th>career_rpg</th>\n",
       "      <th>career_apg</th>\n",
       "      <th>birthplace</th>\n",
       "    </tr>\n",
       "  </thead>\n",
       "  <tbody>\n",
       "    <tr>\n",
       "      <th>0</th>\n",
       "      <td>Vince Carter</td>\n",
       "      <td>22</td>\n",
       "      <td>8</td>\n",
       "      <td>16.35</td>\n",
       "      <td>4.23</td>\n",
       "      <td>2.97</td>\n",
       "      <td>Daytona Beach, Florida</td>\n",
       "    </tr>\n",
       "    <tr>\n",
       "      <th>1</th>\n",
       "      <td>Dirk Nowitzki</td>\n",
       "      <td>21</td>\n",
       "      <td>1</td>\n",
       "      <td>20.11</td>\n",
       "      <td>7.35</td>\n",
       "      <td>2.34</td>\n",
       "      <td>None</td>\n",
       "    </tr>\n",
       "    <tr>\n",
       "      <th>2</th>\n",
       "      <td>LeBron James</td>\n",
       "      <td>20</td>\n",
       "      <td>3</td>\n",
       "      <td>27.20</td>\n",
       "      <td>7.54</td>\n",
       "      <td>7.34</td>\n",
       "      <td>None</td>\n",
       "    </tr>\n",
       "    <tr>\n",
       "      <th>3</th>\n",
       "      <td>Kobe Bryant</td>\n",
       "      <td>20</td>\n",
       "      <td>1</td>\n",
       "      <td>24.20</td>\n",
       "      <td>5.20</td>\n",
       "      <td>4.76</td>\n",
       "      <td>None</td>\n",
       "    </tr>\n",
       "    <tr>\n",
       "      <th>4</th>\n",
       "      <td>Kevin Garnett</td>\n",
       "      <td>20</td>\n",
       "      <td>3</td>\n",
       "      <td>17.35</td>\n",
       "      <td>9.83</td>\n",
       "      <td>3.63</td>\n",
       "      <td>None</td>\n",
       "    </tr>\n",
       "  </tbody>\n",
       "</table>\n",
       "</div>"
      ],
      "text/plain": [
       "     player_name  total_seasons  total_teams  career_ppg  career_rpg  \\\n",
       "0   Vince Carter             22            8       16.35        4.23   \n",
       "1  Dirk Nowitzki             21            1       20.11        7.35   \n",
       "2   LeBron James             20            3       27.20        7.54   \n",
       "3    Kobe Bryant             20            1       24.20        5.20   \n",
       "4  Kevin Garnett             20            3       17.35        9.83   \n",
       "\n",
       "   career_apg              birthplace  \n",
       "0        2.97  Daytona Beach, Florida  \n",
       "1        2.34                    None  \n",
       "2        7.34                    None  \n",
       "3        4.76                    None  \n",
       "4        3.63                    None  "
      ]
     },
     "execution_count": 26,
     "metadata": {},
     "output_type": "execute_result"
    }
   ],
   "source": [
    "df = pd.read_sql_table('careers_birthplace2', cn)\n",
    "df.head()"
   ]
  },
  {
   "cell_type": "code",
   "execution_count": 27,
   "metadata": {},
   "outputs": [],
   "source": [
    "df.to_csv(\"nba_careers_final.csv\")"
   ]
  }
 ],
 "metadata": {
  "kernelspec": {
   "display_name": "Python 3",
   "language": "python",
   "name": "python3"
  },
  "language_info": {
   "codemirror_mode": {
    "name": "ipython",
    "version": 3
   },
   "file_extension": ".py",
   "mimetype": "text/x-python",
   "name": "python",
   "nbconvert_exporter": "python",
   "pygments_lexer": "ipython3",
   "version": "3.12.3"
  }
 },
 "nbformat": 4,
 "nbformat_minor": 2
}
